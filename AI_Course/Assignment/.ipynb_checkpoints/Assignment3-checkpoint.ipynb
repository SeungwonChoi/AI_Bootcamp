{
 "cells": [
  {
   "cell_type": "markdown",
   "metadata": {},
   "source": [
    "<H2>課題3: クラスタリング</H2>\n",
    "<p>本課題で使用するデータは総務省の人口データ(http://www.stat.go.jp/data/jinsui/2016np/index.html)　を加工したものです。</p>\n",
    "<p>0歳から100歳（以上）までの各年齢における総人口数、及び男女の人数が記載されています。</p>\n",
    "<p>3章で学んだ内容を踏まえ、各セルに'#コメント'の内容を実行するコードを記入してください。</p>"
   ]
  },
  {
   "cell_type": "markdown",
   "metadata": {},
   "source": [
    "<H2>1. 必要なモジュールの読み込み"
   ]
  },
  {
   "cell_type": "code",
   "execution_count": 1,
   "metadata": {},
   "outputs": [],
   "source": [
    "%matplotlib inline\n",
    "from __future__ import print_function\n",
    "\n",
    "try:\n",
    "    xrange\n",
    "except NameError:\n",
    "    xrange = range\n",
    "\n",
    "import numpy as np\n",
    "import matplotlib\n",
    "import matplotlib.pyplot as plt\n",
    "import pandas as pd\n",
    "from sklearn.cluster import KMeans, MiniBatchKMeans\n",
    "from sklearn.metrics import silhouette_samples, silhouette_score\n",
    "from sklearn.preprocessing import StandardScaler, MaxAbsScaler"
   ]
  },
  {
   "cell_type": "markdown",
   "metadata": {},
   "source": [
    "<H2>2. データの読み込み</H2>\n",
    "<p>CSVファイル\"japan_number.csv\"を読み込み、内容を確認します。</p>"
   ]
  },
  {
   "cell_type": "code",
   "execution_count": 2,
   "metadata": {},
   "outputs": [],
   "source": [
    "# データ読み込み\n",
    "dataset = pd.read_csv('dataset/japan_number.csv')"
   ]
  },
  {
   "cell_type": "code",
   "execution_count": 3,
   "metadata": {
    "scrolled": true
   },
   "outputs": [
    {
     "data": {
      "text/html": [
       "<div>\n",
       "<style scoped>\n",
       "    .dataframe tbody tr th:only-of-type {\n",
       "        vertical-align: middle;\n",
       "    }\n",
       "\n",
       "    .dataframe tbody tr th {\n",
       "        vertical-align: top;\n",
       "    }\n",
       "\n",
       "    .dataframe thead th {\n",
       "        text-align: right;\n",
       "    }\n",
       "</style>\n",
       "<table border=\"1\" class=\"dataframe\">\n",
       "  <thead>\n",
       "    <tr style=\"text-align: right;\">\n",
       "      <th></th>\n",
       "      <th>Yearsold</th>\n",
       "      <th>Total</th>\n",
       "      <th>Man</th>\n",
       "      <th>Woman</th>\n",
       "    </tr>\n",
       "  </thead>\n",
       "  <tbody>\n",
       "    <tr>\n",
       "      <th>0</th>\n",
       "      <td>0</td>\n",
       "      <td>957</td>\n",
       "      <td>489</td>\n",
       "      <td>469</td>\n",
       "    </tr>\n",
       "    <tr>\n",
       "      <th>1</th>\n",
       "      <td>1</td>\n",
       "      <td>970</td>\n",
       "      <td>497</td>\n",
       "      <td>474</td>\n",
       "    </tr>\n",
       "    <tr>\n",
       "      <th>2</th>\n",
       "      <td>2</td>\n",
       "      <td>1007</td>\n",
       "      <td>514</td>\n",
       "      <td>492</td>\n",
       "    </tr>\n",
       "    <tr>\n",
       "      <th>3</th>\n",
       "      <td>3</td>\n",
       "      <td>1013</td>\n",
       "      <td>518</td>\n",
       "      <td>495</td>\n",
       "    </tr>\n",
       "    <tr>\n",
       "      <th>4</th>\n",
       "      <td>4</td>\n",
       "      <td>1041</td>\n",
       "      <td>533</td>\n",
       "      <td>507</td>\n",
       "    </tr>\n",
       "  </tbody>\n",
       "</table>\n",
       "</div>"
      ],
      "text/plain": [
       "   Yearsold  Total  Man  Woman\n",
       "0         0    957  489    469\n",
       "1         1    970  497    474\n",
       "2         2   1007  514    492\n",
       "3         3   1013  518    495\n",
       "4         4   1041  533    507"
      ]
     },
     "execution_count": 3,
     "metadata": {},
     "output_type": "execute_result"
    }
   ],
   "source": [
    "# データを最初の5行だけ表示\n",
    "dataset.head()"
   ]
  },
  {
   "cell_type": "code",
   "execution_count": 4,
   "metadata": {},
   "outputs": [],
   "source": [
    "# 年齢データはカテゴリ変数であり不要なため、列'Yearsold'を削除\n",
    "cols = [\"Total\",\"Man\",\"Woman\"]\n",
    "dataset_for_cl = dataset[cols]"
   ]
  },
  {
   "cell_type": "code",
   "execution_count": 5,
   "metadata": {
    "scrolled": false
   },
   "outputs": [
    {
     "data": {
      "text/html": [
       "<div>\n",
       "<style scoped>\n",
       "    .dataframe tbody tr th:only-of-type {\n",
       "        vertical-align: middle;\n",
       "    }\n",
       "\n",
       "    .dataframe tbody tr th {\n",
       "        vertical-align: top;\n",
       "    }\n",
       "\n",
       "    .dataframe thead th {\n",
       "        text-align: right;\n",
       "    }\n",
       "</style>\n",
       "<table border=\"1\" class=\"dataframe\">\n",
       "  <thead>\n",
       "    <tr style=\"text-align: right;\">\n",
       "      <th></th>\n",
       "      <th>Total</th>\n",
       "      <th>Man</th>\n",
       "      <th>Woman</th>\n",
       "    </tr>\n",
       "  </thead>\n",
       "  <tbody>\n",
       "    <tr>\n",
       "      <th>0</th>\n",
       "      <td>957</td>\n",
       "      <td>489</td>\n",
       "      <td>469</td>\n",
       "    </tr>\n",
       "    <tr>\n",
       "      <th>1</th>\n",
       "      <td>970</td>\n",
       "      <td>497</td>\n",
       "      <td>474</td>\n",
       "    </tr>\n",
       "    <tr>\n",
       "      <th>2</th>\n",
       "      <td>1007</td>\n",
       "      <td>514</td>\n",
       "      <td>492</td>\n",
       "    </tr>\n",
       "    <tr>\n",
       "      <th>3</th>\n",
       "      <td>1013</td>\n",
       "      <td>518</td>\n",
       "      <td>495</td>\n",
       "    </tr>\n",
       "    <tr>\n",
       "      <th>4</th>\n",
       "      <td>1041</td>\n",
       "      <td>533</td>\n",
       "      <td>507</td>\n",
       "    </tr>\n",
       "  </tbody>\n",
       "</table>\n",
       "</div>"
      ],
      "text/plain": [
       "   Total  Man  Woman\n",
       "0    957  489    469\n",
       "1    970  497    474\n",
       "2   1007  514    492\n",
       "3   1013  518    495\n",
       "4   1041  533    507"
      ]
     },
     "execution_count": 5,
     "metadata": {},
     "output_type": "execute_result"
    }
   ],
   "source": [
    "# 最初の5行を表示して列が削除されたことを確認\n",
    "dataset_for_cl.head()"
   ]
  },
  {
   "cell_type": "markdown",
   "metadata": {},
   "source": [
    "<H2>3. データの正規化</H2>\n",
    "<p>クラスタリングはユークリッド距離に基づいて行われるため、スケールは重要です。</p>"
   ]
  },
  {
   "cell_type": "code",
   "execution_count": 6,
   "metadata": {},
   "outputs": [],
   "source": [
    "# 正規化を実施\n",
    "scaler = MaxAbsScaler()\n",
    "dataset_for_cl_scaled = scaler.fit_transform(dataset_for_cl)"
   ]
  },
  {
   "cell_type": "code",
   "execution_count": 7,
   "metadata": {},
   "outputs": [
    {
     "data": {
      "text/plain": [
       "array([[0.43818681, 0.46175637, 0.41688889],\n",
       "       [0.44413919, 0.46931067, 0.42133333],\n",
       "       [0.46108059, 0.48536355, 0.43733333],\n",
       "       [0.46382784, 0.4891407 , 0.44      ],\n",
       "       [0.47664835, 0.503305  , 0.45066667]])"
      ]
     },
     "execution_count": 7,
     "metadata": {},
     "output_type": "execute_result"
    }
   ],
   "source": [
    "# 正規化後のデータを確認\n",
    "dataset_for_cl_scaled[:5]"
   ]
  },
  {
   "cell_type": "markdown",
   "metadata": {},
   "source": [
    "<H2> 4. データの可視化"
   ]
  },
  {
   "cell_type": "code",
   "execution_count": 8,
   "metadata": {
    "scrolled": false
   },
   "outputs": [
    {
     "data": {
      "text/plain": [
       "Text(0,0.5,'Woman')"
      ]
     },
     "execution_count": 8,
     "metadata": {},
     "output_type": "execute_result"
    },
    {
     "data": {
      "image/png": "[encoded data removed]",
      "text/plain": [
       "<Figure size 432x288 with 1 Axes>"
      ]
     },
     "metadata": {},
     "output_type": "display_data"
    }
   ],
   "source": [
    "# 正規化したデータを散布図にPlotし、分布を確認します。\n",
    "fig = plt.figure()\n",
    "ax = fig.add_subplot(1, 1, 1)\n",
    "ax.scatter(dataset_for_cl_scaled[:, 1], dataset_for_cl_scaled[:, 2])\n",
    "ax.set_title('scatter plot')\n",
    "ax.set_xlabel('Man')\n",
    "ax.set_ylabel('Woman')"
   ]
  },
  {
   "cell_type": "markdown",
   "metadata": {},
   "source": [
    "<H2> 5. クラスター数の決定</H2>\n",
    "<p>ここではElbow Methodとシルエットプロットを用いてクラスター数を決定してみましょう。</p>"
   ]
  },
  {
   "cell_type": "markdown",
   "metadata": {},
   "source": [
    "<h3>Elbow Method"
   ]
  },
  {
   "cell_type": "code",
   "execution_count": 9,
   "metadata": {},
   "outputs": [],
   "source": [
    "# 最大クラスター数を10としてWCSS値を取得\n",
    "max_cluster = 10\n",
    "clusters_ = range(1, max_cluster)\n",
    "intra_sum_of_square_list = []\n",
    "for k in clusters_:\n",
    "    km = KMeans(n_clusters=k, init='k-means++', n_init=10, max_iter=300)\n",
    "    km.fit(dataset_for_cl_scaled)\n",
    "    intra_sum_of_square_list.append(km.inertia_)"
   ]
  },
  {
   "cell_type": "code",
   "execution_count": 10,
   "metadata": {},
   "outputs": [
    {
     "data": {
      "text/plain": [
       "[<matplotlib.lines.Line2D at 0x7f2e70ebd208>]"
      ]
     },
     "execution_count": 10,
     "metadata": {},
     "output_type": "execute_result"
    },
    {
     "data": {
      "image/png": "[encoded data removed]",
      "text/plain": [
       "<Figure size 432x288 with 1 Axes>"
      ]
     },
     "metadata": {},
     "output_type": "display_data"
    }
   ],
   "source": [
    "# 上記結果をplotにて可視化\n",
    "fig = plt.figure()\n",
    "ax = fig.add_subplot(1, 1, 1)\n",
    "ax.set_title('Elbow Method')\n",
    "ax.set_xlabel('Number of Clutser')\n",
    "ax.set_ylabel('Intra Sum of distances(WCSS)')\n",
    "plt.plot(clusters_, intra_sum_of_square_list)"
   ]
  },
  {
   "cell_type": "markdown",
   "metadata": {},
   "source": [
    "<h3>シルエットメソッド"
   ]
  },
  {
   "cell_type": "code",
   "execution_count": 11,
   "metadata": {},
   "outputs": [],
   "source": [
    "# K-means法でクラスタリングの実施\n",
    "n_clusters = 3\n",
    "km = KMeans(n_clusters=n_clusters, init='k-means++', n_init=10, max_iter=300)\n",
    "km.fit(dataset_for_cl_scaled)\n",
    "cluster_labels = km.predict(dataset_for_cl_scaled)"
   ]
  },
  {
   "cell_type": "code",
   "execution_count": 12,
   "metadata": {},
   "outputs": [],
   "source": [
    "# シルエットスコアの平均を算出\n",
    "silhouette_avg = silhouette_score(dataset_for_cl_scaled, cluster_labels)"
   ]
  },
  {
   "cell_type": "code",
   "execution_count": 13,
   "metadata": {},
   "outputs": [],
   "source": [
    "# それぞれのデータ点のシルエットスコアを算出する\n",
    "each_silhouette_score = silhouette_samples(dataset_for_cl_scaled, cluster_labels, metric='euclidean')"
   ]
  },
  {
   "cell_type": "code",
   "execution_count": 14,
   "metadata": {},
   "outputs": [
    {
     "data": {
      "text/plain": [
       "[<matplotlib.axis.XTick at 0x7f2e70e2a630>,\n",
       " <matplotlib.axis.XTick at 0x7f2e70e29f28>,\n",
       " <matplotlib.axis.XTick at 0x7f2e70e29c88>,\n",
       " <matplotlib.axis.XTick at 0x7f2e70dd8e48>,\n",
       " <matplotlib.axis.XTick at 0x7f2e70de2358>,\n",
       " <matplotlib.axis.XTick at 0x7f2e70de2828>,\n",
       " <matplotlib.axis.XTick at 0x7f2e70de2cf8>]"
      ]
     },
     "execution_count": 14,
     "metadata": {},
     "output_type": "execute_result"
    },
    {
     "data": {
      "image/png": "[encoded data removed]",
      "text/plain": [
       "<Figure size 432x288 with 1 Axes>"
      ]
     },
     "metadata": {},
     "output_type": "display_data"
    }
   ],
   "source": [
    "# シルエットプロットを作図\n",
    "colorlist = ['tomato', 'antiquewhite', 'blueviolet', 'cornflowerblue',\n",
    "             'darkgreen', 'seashell', 'skyblue', 'mediumseagreen']\n",
    "fig = plt.figure()\n",
    "ax = fig.add_subplot(1, 1, 1)\n",
    "y_lower = 10\n",
    "\n",
    "for i in range(n_clusters):\n",
    "        # クラスターごとにシルエットスコアをまとめて並べ替える\n",
    "        ith_cluster_silhouette_values = each_silhouette_score[cluster_labels == i]\n",
    "        ith_cluster_silhouette_values.sort()\n",
    "        size_cluster_i = ith_cluster_silhouette_values.shape[0]\n",
    "        y_upper = y_lower + size_cluster_i\n",
    "\n",
    "        color = colorlist[i]\n",
    "        ax.fill_betweenx(np.arange(y_lower, y_upper), 0,\n",
    "                         ith_cluster_silhouette_values,\n",
    "                         facecolor=color, edgecolor=color, alpha=0.3)\n",
    "\n",
    "        # シルエットプロットの真ん中にクラスター番号をラベリング\n",
    "        ax.text(-0.05, y_lower + 0.5 * size_cluster_i, str(i))\n",
    "\n",
    "        # 次の描画用にy_lowerを設定\n",
    "        y_lower = y_upper + 10\n",
    "\n",
    "ax.set_title('Silhouette plot')\n",
    "ax.set_xlabel('Silhouette score')\n",
    "ax.set_ylabel('Cluster label')\n",
    "\n",
    "# 全シルエットスコアの平均値に縦線を挿入\n",
    "ax.axvline(x=silhouette_avg, color='red', linestyle='--')\n",
    "\n",
    "ax.set_yticks([])  # y軸をクリアにする\n",
    "ax.set_xticks([-0.2, 0, 0.2, 0.4, 0.6, 0.8, 1])"
   ]
  },
  {
   "cell_type": "markdown",
   "metadata": {},
   "source": [
    "<H2>6.  結果の確認"
   ]
  },
  {
   "cell_type": "markdown",
   "metadata": {},
   "source": [
    "正規化後に作成したPlotをクラスターごとに色分けし、どのようにクラスターが分かれているのか確認します。"
   ]
  },
  {
   "cell_type": "code",
   "execution_count": 15,
   "metadata": {},
   "outputs": [
    {
     "data": {
      "text/plain": [
       "<matplotlib.legend.Legend at 0x7f2e70dab860>"
      ]
     },
     "execution_count": 15,
     "metadata": {},
     "output_type": "execute_result"
    },
    {
     "data": {
      "image/png": "[encoded data removed]",
      "text/plain": [
       "<Figure size 432x288 with 1 Axes>"
      ]
     },
     "metadata": {},
     "output_type": "display_data"
    }
   ],
   "source": [
    "#　グラフの描画の初期化\n",
    "fig = plt.figure()\n",
    "ax = fig.add_subplot(1, 1, 1)\n",
    "\n",
    "#　クラスターの番号をユニークにします\n",
    "cluster_ids = list(set(cluster_labels))\n",
    "\n",
    "#　クラスターごとに色を変えながら、散布図に出力していきます\n",
    "for k in range(len(cluster_ids)):\n",
    "    cluster_id = cluster_ids[k]\n",
    "    label_ = 'clutser = %d' % cluster_id\n",
    "    data_by_cluster = dataset_for_cl_scaled[cluster_labels == cluster_id]\n",
    "    ax.scatter(data_by_cluster[:, 1], data_by_cluster[:, 2],\n",
    "               c=colorlist[k], label=label_)\n",
    "\n",
    "ax.set_title('Clustering')\n",
    "ax.set_xlabel('Man')\n",
    "ax.set_ylabel('Woman')\n",
    "ax.legend(loc='lower right')"
   ]
  }
 ],
 "metadata": {
  "anaconda-cloud": {},
  "kernelspec": {
   "display_name": "Python 3",
   "language": "python",
   "name": "python3"
  },
  "language_info": {
   "codemirror_mode": {
    "name": "ipython",
    "version": 3
   },
   "file_extension": ".py",
   "mimetype": "text/x-python",
   "name": "python",
   "nbconvert_exporter": "python",
   "pygments_lexer": "ipython3",
   "version": "3.6.5"
  },
  "widgets": {
   "state": {},
   "version": "1.1.2"
  }
 },
 "nbformat": 4,
 "nbformat_minor": 1
}
